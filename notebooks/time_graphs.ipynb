{
 "cells": [
  {
   "cell_type": "markdown",
   "id": "e7a22962",
   "metadata": {},
   "source": [
    "# Visualización de los resultados del testing\n",
    "- Este notebook está desarrollado con el objetivo de generar visualizaciones de los embeddings 2D generados por el sistema y gráficas con métricas temporales y de *trustworthiness*."
   ]
  },
  {
   "cell_type": "code",
   "execution_count": 19,
   "id": "a989e339",
   "metadata": {},
   "outputs": [],
   "source": [
    "import os\n",
    "import pickle\n",
    "import numpy as np\n",
    "import matplotlib.pyplot as plt"
   ]
  },
  {
   "cell_type": "code",
   "execution_count": 20,
   "id": "1fb74547",
   "metadata": {},
   "outputs": [
    {
     "name": "stdout",
     "output_type": "stream",
     "text": [
      "- Existen artifacts de los siguientes datasets:\n",
      "    - cifar_10_small\n",
      "    - Fashion-MNIST\n",
      "    - Glass-Classification\n",
      "    - mnist_784\n"
     ]
    }
   ],
   "source": [
    "ARTIFACTS_PATH = os.path.join(\"..\", \"artifacts\")\n",
    "\n",
    "DATASET_NAMES = []\n",
    "print(\"- Existen artifacts de los siguientes datasets:\")\n",
    "for dataset_name in os.listdir(ARTIFACTS_PATH):\n",
    "    print(f\"    - {dataset_name}\")\n",
    "    DATASET_NAMES.append(dataset_name)"
   ]
  },
  {
   "cell_type": "code",
   "execution_count": 21,
   "id": "fd5be695",
   "metadata": {},
   "outputs": [],
   "source": [
    "# Cargamos los archivos CSV que contienen los resultados y los ficheros\n",
    "# .pkl que contienen los embeddings\n",
    "TEST_OUTPUTS = {}\n",
    "for dataset_name in os.listdir(ARTIFACTS_PATH):\n",
    "    TEST_OUTPUTS[dataset_name] = {\n",
    "        \"embeddings\": [],\n",
    "        \"csv\": None\n",
    "    }\n",
    "    dataset_path = os.path.join(ARTIFACTS_PATH, dataset_name)\n",
    "    for f in os.listdir(dataset_path):\n",
    "        if f.endswith(\".csv\"):\n",
    "            TEST_OUTPUTS[dataset_name][\"csv\"] = os.path.join(dataset_path, f)\n",
    "        else:\n",
    "            TEST_OUTPUTS[dataset_name][\"embeddings\"].append(os.path.join(dataset_path, f))"
   ]
  },
  {
   "cell_type": "code",
   "execution_count": null,
   "id": "c25bd43b",
   "metadata": {},
   "outputs": [],
   "source": [
    "def plot_embeddings(embeddings: list[tuple[str, np.ndarray]], save_fig: bool = True) -> None:\n",
    "    n_embeddings = len(embeddings)\n",
    "    n_cols = int(np.ceil(np.sqrt(n_embeddings)))\n",
    "    n_rows = int(np.ceil(n_embeddings / n_cols))\n",
    "    while n_rows >= n_cols:\n",
    "        n_cols += 1\n",
    "        n_rows = int(np.ceil(n_embeddings / n_cols))\n",
    "\n",
    "    fig, axs = plt.subplots(n_rows, n_cols, figsize=(n_cols*3, n_rows*3))\n",
    "\n",
    "    embedding_idx = 0\n",
    "    for row in range(len(axs)):\n",
    "        for col in range(len(axs[0, :])):\n",
    "            embedding_name, embedding = embeddings[embedding_idx]\n",
    "\n",
    "            axs[row, col].set_title(embedding_name)\n",
    "            \n",
    "\n",
    "    plt.show()\n",
    "\n",
    "    if save_fig:\n",
    "        plt.savefig(\"hola.png\")"
   ]
  },
  {
   "cell_type": "markdown",
   "id": "887f12c5",
   "metadata": {},
   "source": [
    "Visualización de MNIST\n",
    "---"
   ]
  },
  {
   "cell_type": "code",
   "execution_count": null,
   "id": "acb94946",
   "metadata": {},
   "outputs": [],
   "source": [
    "mnist_embeddings = []\n",
    "mnist_name = \"mnist_784\"\n",
    "for embedding_path in TEST_OUTPUTS[mnist_name][\"embeddings\"]:\n",
    "    with open(embedding_path, \"rb\") as f:\n",
    "        embedding = pickle.load(f)\n",
    "\n",
    "    filename_with_extension = os.path.basename(embedding_path)\n",
    "    filename = os.path.splitext(filename_with_extension)[0]\n",
    "    prefix = mnist_name + '_'\n",
    "    embedding_name = filename[len(prefix):]\n",
    "    mnist_embeddings.append((embedding_name, embedding))"
   ]
  },
  {
   "cell_type": "code",
   "execution_count": null,
   "id": "f6472ca5",
   "metadata": {},
   "outputs": [],
   "source": []
  }
 ],
 "metadata": {
  "kernelspec": {
   "display_name": "ml3_practica1",
   "language": "python",
   "name": "python3"
  },
  "language_info": {
   "codemirror_mode": {
    "name": "ipython",
    "version": 3
   },
   "file_extension": ".py",
   "mimetype": "text/x-python",
   "name": "python",
   "nbconvert_exporter": "python",
   "pygments_lexer": "ipython3",
   "version": "3.12.12"
  }
 },
 "nbformat": 4,
 "nbformat_minor": 5
}
