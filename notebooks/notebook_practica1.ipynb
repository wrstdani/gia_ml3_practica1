{
 "cells": [
  {
   "cell_type": "markdown",
   "id": "4c872cbf",
   "metadata": {},
   "source": [
    "# Pruebas para la Práctica 1 de Aprendizaje Automático 3"
   ]
  },
  {
   "cell_type": "code",
   "execution_count": 55,
   "id": "2b535dce",
   "metadata": {},
   "outputs": [],
   "source": [
    "\"\"\"\n",
    "- OS para manejo de paths\n",
    "\"\"\"\n",
    "import os\n",
    "\n",
    "\"\"\"\n",
    "- JSON para lectura de \".json\"\n",
    "\"\"\"\n",
    "import json\n",
    "\n",
    "\"\"\"\n",
    "- NumPy para manejo de vectores y matrices\n",
    "\"\"\"\n",
    "import numpy as np\n",
    "\n",
    "\"\"\"\n",
    "- Pandas para lectura de .csv\n",
    "\"\"\"\n",
    "import pandas as pd\n",
    "\n",
    "\"\"\"\n",
    "- Matplotlib para visualizar datos\n",
    "\"\"\"\n",
    "import matplotlib.pyplot as plt\n",
    "\n",
    "\"\"\"\n",
    "- Algoritmos de manifold learning y trustworthiness\n",
    "  de Scikit-learn\n",
    "\"\"\"\n",
    "from sklearn.manifold import (\n",
    "    MDS,\n",
    "    LocallyLinearEmbedding,\n",
    "    Isomap,\n",
    "    TSNE,\n",
    "    trustworthiness\n",
    ")\n",
    "\n",
    "\"\"\"\n",
    "- StandardScaler de Scikit-learn\n",
    "\"\"\"\n",
    "from sklearn.preprocessing import StandardScaler\n",
    "\n",
    "\"\"\"\n",
    "- PyTorch para la implementación de Autoencoders\n",
    "\"\"\"\n",
    "import torch\n",
    "import torch.nn as nn\n",
    "import torch.optim as optim\n",
    "from torch.utils.data import Dataset, DataLoader\n",
    "device = torch.device(\n",
    "    \"cuda\" if torch.cuda.is_available()\n",
    "    else \"cpu\"\n",
    ")\n",
    "\n",
    "np.random.seed(42)"
   ]
  },
  {
   "cell_type": "code",
   "execution_count": 56,
   "id": "adbb4433",
   "metadata": {},
   "outputs": [
    {
     "name": "stdout",
     "output_type": "stream",
     "text": [
      "- Conjuntos de datos:\n",
      "    - MNIST:\n",
      "        - mnist_test.csv\n",
      "        - mnist_train.csv\n",
      "\n",
      "     - Fashion MNIST:\n",
      "        - fashion-mnist_test.csv\n",
      "        - fashion-mnist_train.csv\n",
      "        - fashion-mnist_label_dict.json\n"
     ]
    }
   ],
   "source": [
    "\"\"\"\n",
    "- Definición de paths relevantes\n",
    "\"\"\"\n",
    "DATA_PATH = os.path.join(\"..\", \"data\")\n",
    "MNIST_PATH = os.path.join(DATA_PATH, \"mnist\")\n",
    "F_MNIST_PATH = os.path.join(DATA_PATH, \"fashion-mnist\")\n",
    "\n",
    "print(\"- Conjuntos de datos:\")\n",
    "\n",
    "print(\"    - MNIST:\")\n",
    "for f in os.listdir(MNIST_PATH):\n",
    "    print(f\"        - {f}\")\n",
    "print()\n",
    "\n",
    "print(\"     - Fashion MNIST:\")\n",
    "for f in os.listdir(F_MNIST_PATH):\n",
    "    print(f\"        - {f}\")"
   ]
  },
  {
   "cell_type": "markdown",
   "id": "7cd78236",
   "metadata": {},
   "source": [
    "Carga de datos\n",
    "---\n",
    "- Cargamos los datos de los ficheros \".csv\" de Fashion MNIST descargados de Kaggle.\n",
    "- Para ello, utilizamos la función `pandas.read_csv()`."
   ]
  },
  {
   "cell_type": "code",
   "execution_count": 57,
   "id": "26f5eb2c",
   "metadata": {},
   "outputs": [],
   "source": [
    "df_train = pd.read_csv(os.path.join(F_MNIST_PATH, \"fashion-mnist_train.csv\"))\n",
    "df_test = pd.read_csv(os.path.join(F_MNIST_PATH, \"fashion-mnist_test.csv\"))\n",
    "\n",
    "with open(os.path.join(F_MNIST_PATH, \"fashion-mnist_label_dict.json\")) as f:\n",
    "    label_dict = json.load(f)\n",
    "label_dict = {int(k): v for k, v in label_dict.items()}"
   ]
  },
  {
   "cell_type": "code",
   "execution_count": 58,
   "id": "58aca091",
   "metadata": {},
   "outputs": [],
   "source": [
    "\"\"\"\n",
    "- Separamos los datasets en etiquetas y datos y los convertimos a np.ndarray\n",
    "\"\"\"\n",
    "y_train = df_train[\"label\"].to_numpy()\n",
    "df_train.drop(labels=\"label\", axis=1, inplace=True)\n",
    "X_train = df_train.to_numpy()\n",
    "\n",
    "y_test = df_test[\"label\"].to_numpy()\n",
    "df_test.drop(labels=\"label\", axis=1, inplace=True)\n",
    "X_test = df_test.to_numpy()"
   ]
  },
  {
   "cell_type": "code",
   "execution_count": 59,
   "id": "1953f118",
   "metadata": {},
   "outputs": [
    {
     "name": "stdout",
     "output_type": "stream",
     "text": [
      "- Datos de entrenamiento (X_train):\n",
      "    - Tipo: <class 'numpy.ndarray'>\n",
      "    - Tipo de dato interno: int64\n",
      "    - Dimensiones:\n",
      "        - 60000 filas (patrones)\n",
      "        - 784 columnas (características/dimensiones)\n"
     ]
    }
   ],
   "source": [
    "print(\"- Datos de entrenamiento (X_train):\")\n",
    "print(f\"    - Tipo: {type(X_train)}\")\n",
    "print(f\"    - Tipo de dato interno: {X_train.dtype}\")\n",
    "print(f\"    - Dimensiones:\")\n",
    "print(f\"        - {X_train.shape[0]} filas (patrones)\")\n",
    "print(f\"        - {X_train.shape[1]} columnas (características/dimensiones)\")"
   ]
  },
  {
   "cell_type": "code",
   "execution_count": 60,
   "id": "cf474112",
   "metadata": {},
   "outputs": [
    {
     "name": "stdout",
     "output_type": "stream",
     "text": [
      "- Datos de test (X_test):\n",
      "    - Tipo: <class 'numpy.ndarray'>\n",
      "    - Tipo de dato interno: int64\n",
      "    - Dimensiones:\n",
      "        - 10000 filas (patrones)\n",
      "        - 784 columnas (características/dimensiones)\n"
     ]
    }
   ],
   "source": [
    "print(\"- Datos de test (X_test):\")\n",
    "print(f\"    - Tipo: {type(X_test)}\")\n",
    "print(f\"    - Tipo de dato interno: {X_test.dtype}\")\n",
    "print(f\"    - Dimensiones:\")\n",
    "print(f\"        - {X_test.shape[0]} filas (patrones)\")\n",
    "print(f\"        - {X_test.shape[1]} columnas (características/dimensiones)\")"
   ]
  },
  {
   "cell_type": "markdown",
   "id": "50eebd89",
   "metadata": {},
   "source": [
    "Visualización de datos\n",
    "---\n",
    "- Primero, utilizaremos matplotlib para visualizar algunas muestras de cada etiqueta del conjunto de entrenamiento:"
   ]
  },
  {
   "cell_type": "code",
   "execution_count": 61,
   "id": "b45cb2c4",
   "metadata": {},
   "outputs": [
    {
     "data": {
      "image/png": "[encoded data removed]",
      "text/plain": [
       "<Figure size 1500x600 with 10 Axes>"
      ]
     },
     "metadata": {},
     "output_type": "display_data"
    }
   ],
   "source": [
    "fig, axs = plt.subplots(2, 5, figsize=(15, 6))\n",
    "fig.suptitle(\"Muestra aleatoria de cada clase de Fashion MNIST\", fontsize=18)\n",
    "\n",
    "for k in label_dict.keys():\n",
    "    idx = np.random.choice(np.where(y_train == k)[0])\n",
    "    img = X_train[idx].reshape(28, 28)\n",
    "    ax = axs[k // 5, k % 5]\n",
    "    ax.imshow(img, cmap=\"gray\")\n",
    "    ax.set_title(f\"{k} = {label_dict[k]}\")\n",
    "    ax.axis(\"off\")\n",
    "\n",
    "plt.tight_layout()\n",
    "plt.show()"
   ]
  },
  {
   "cell_type": "markdown",
   "id": "7f76a764",
   "metadata": {},
   "source": [
    "Prueba Linear Autoencoder\n",
    "---"
   ]
  },
  {
   "cell_type": "code",
   "execution_count": 62,
   "id": "a7da2a80",
   "metadata": {},
   "outputs": [],
   "source": [
    "# Estandarizar\n",
    "std = StandardScaler()\n",
    "X_train_std = std.fit_transform(X_train)\n",
    "X_test_std = std.transform(X_test)"
   ]
  },
  {
   "cell_type": "code",
   "execution_count": 63,
   "id": "9d5e8bfd",
   "metadata": {},
   "outputs": [],
   "source": [
    "class FMNISTDataset(Dataset):\n",
    "    def __init__(self, data: np.ndarray, labels: np.ndarray):\n",
    "        self.data = torch.tensor(data, dtype=torch.float32, device=device)\n",
    "        self.labels = torch.tensor(labels, dtype=torch.int32, device=device)\n",
    "\n",
    "    def __len__(self):\n",
    "        return self.data.size(0)\n",
    "\n",
    "    def __getitem__(self, index):\n",
    "        return self.data[index, :], self.labels[index]"
   ]
  },
  {
   "cell_type": "code",
   "execution_count": 64,
   "id": "17bd4b5a",
   "metadata": {},
   "outputs": [],
   "source": [
    "train_data = FMNISTDataset(X_train_std, y_train)\n",
    "test_data = FMNISTDataset(X_test_std, y_test)\n",
    "train_loader = DataLoader(train_data, batch_size=32, shuffle=True)\n",
    "test_loader = DataLoader(test_data, batch_size=32, shuffle=False)"
   ]
  },
  {
   "cell_type": "code",
   "execution_count": 65,
   "id": "18ff7bd1",
   "metadata": {},
   "outputs": [],
   "source": [
    "class LinearAutoencoder(nn.Module):\n",
    "    def __init__(self, input_dim=784, embedding_dim=32):\n",
    "        super(LinearAutoencoder, self).__init__()\n",
    "        self.encoder = nn.Sequential(\n",
    "            nn.Linear(in_features=input_dim, out_features=128),\n",
    "            nn.Linear(in_features=128, out_features=64),\n",
    "            nn.Linear(in_features=64, out_features=embedding_dim)\n",
    "        )\n",
    "        self.decoder = nn.Sequential(\n",
    "            nn.Linear(in_features=embedding_dim, out_features=64),\n",
    "            nn.Linear(in_features=64, out_features=128),\n",
    "            nn.Linear(in_features=128, out_features=input_dim)\n",
    "        )\n",
    "\n",
    "    def forward(self, x):\n",
    "        x = x.view(x.size(0), -1)\n",
    "        encoded = self.encoder(x)\n",
    "        decoded = self.decoder(encoded)\n",
    "        return decoded"
   ]
  },
  {
   "cell_type": "code",
   "execution_count": 66,
   "id": "0e043a47",
   "metadata": {},
   "outputs": [
    {
     "name": "stdout",
     "output_type": "stream",
     "text": [
      "Epoch 1, loss = 0.24304643273353577\n",
      "Epoch 2, loss = 0.27202966809272766\n",
      "Epoch 3, loss = 0.2120618224143982\n",
      "Epoch 4, loss = 0.21165668964385986\n",
      "Epoch 5, loss = 0.21554699540138245\n",
      "Epoch 6, loss = 0.19092147052288055\n",
      "Epoch 7, loss = 0.20973198115825653\n",
      "Epoch 8, loss = 0.23113283514976501\n",
      "Epoch 9, loss = 0.24432402849197388\n",
      "Epoch 10, loss = 0.16369952261447906\n",
      "Epoch 11, loss = 0.16745133697986603\n",
      "Epoch 12, loss = 0.19408969581127167\n",
      "Epoch 13, loss = 0.17655780911445618\n",
      "Epoch 14, loss = 0.17993827164173126\n",
      "Epoch 15, loss = 0.44954755902290344\n",
      "Epoch 16, loss = 0.18219000101089478\n",
      "Epoch 17, loss = 0.3730716407299042\n",
      "Epoch 18, loss = 0.24668347835540771\n",
      "Epoch 19, loss = 0.23280063271522522\n",
      "Epoch 20, loss = 0.26759570837020874\n"
     ]
    }
   ],
   "source": [
    "model = LinearAutoencoder()\n",
    "criterion = nn.MSELoss()\n",
    "optimizer = optim.Adam(model.parameters(), lr=1e-3)\n",
    "\n",
    "num_epochs = 20\n",
    "for epoch in range(num_epochs):\n",
    "    for data, _ in train_loader:\n",
    "        output = model(data)\n",
    "        loss = criterion(output, data.view(data.size(0), -1))\n",
    "        optimizer.zero_grad()\n",
    "        loss.backward()\n",
    "        optimizer.step()\n",
    "    print(f\"Epoch {epoch+1}, loss = {loss.item()}\")"
   ]
  },
  {
   "cell_type": "code",
   "execution_count": 67,
   "id": "b1642c69",
   "metadata": {},
   "outputs": [
    {
     "data": {
      "text/plain": [
       "array([[ 44.234676,  20.028236],\n",
       "       [ 51.598927, -60.54232 ],\n",
       "       [-31.758387,  68.057556],\n",
       "       ...,\n",
       "       [ 14.251093, -16.405668],\n",
       "       [ 42.04423 ,  11.637899],\n",
       "       [ 18.201221, -96.81095 ]], shape=(60000, 2), dtype=float32)"
      ]
     },
     "execution_count": 67,
     "metadata": {},
     "output_type": "execute_result"
    }
   ],
   "source": [
    "model.eval()\n",
    "with torch.no_grad():\n",
    "    X_train_tensor = torch.tensor(X_train_std, dtype=torch.float32, device=device)\n",
    "    embeddings_train = model.encoder(X_train_tensor).cpu().numpy()\n",
    "\n",
    "tsne = TSNE()\n",
    "tsne_res = tsne.fit_transform(embeddings_train)\n",
    "tsne_res"
   ]
  }
 ],
 "metadata": {
  "kernelspec": {
   "display_name": "ml3_practica1",
   "language": "python",
   "name": "python3"
  },
  "language_info": {
   "codemirror_mode": {
    "name": "ipython",
    "version": 3
   },
   "file_extension": ".py",
   "mimetype": "text/x-python",
   "name": "python",
   "nbconvert_exporter": "python",
   "pygments_lexer": "ipython3",
   "version": "3.12.12"
  }
 },
 "nbformat": 4,
 "nbformat_minor": 5
}
